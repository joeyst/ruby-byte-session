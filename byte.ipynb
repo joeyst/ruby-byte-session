{
 "cells": [
  {
   "cell_type": "markdown",
   "metadata": {},
   "source": [
    "##### Think you couldn't seg fault in Ruby?"
   ]
  },
  {
   "cell_type": "code",
   "execution_count": null,
   "metadata": {},
   "outputs": [
    {
     "ename": "",
     "evalue": "",
     "output_type": "error",
     "traceback": [
      "\u001b[1;31mCanceled future for execute_request message before replies were done"
     ]
    },
    {
     "ename": "",
     "evalue": "",
     "output_type": "error",
     "traceback": [
      "\u001b[1;31mThe Kernel crashed while executing code in the the current cell or a previous cell. Please review the code in the cell(s) to identify a possible cause of the failure. Click <a href='https://aka.ms/vscodeJupyterKernelCrash'>here</a> for more info. View Jupyter <a href='command:jupyter.viewOutput'>log</a> for further details."
     ]
    }
   ],
   "source": [
    "require 'fiddle'\n",
    "str = \"I am a string\"\n",
    "Fiddle::Pointer.new(str.object_id)[0] &= 0"
   ]
  },
  {
   "cell_type": "markdown",
   "metadata": {},
   "source": [
    "##### `END`, `BEGIN`"
   ]
  },
  {
   "cell_type": "code",
   "execution_count": null,
   "metadata": {},
   "outputs": [],
   "source": [
    "END {\n",
    "  puts \"and this not at all?\"\n",
    "}\n",
    "\n",
    "puts 123\n",
    "\n",
    "BEGIN {\n",
    "  puts \"why is this executing first\"\n",
    "}"
   ]
  },
  {
   "cell_type": "markdown",
   "metadata": {},
   "source": [
    "- `BEGIN` and `END` must be *top-level* \n",
    "- `BEGIN` runs at start of execution \n",
    "- `END` runs at end of execution... which hasn't happened in this `.ipynb` file "
   ]
  },
  {
   "cell_type": "markdown",
   "metadata": {},
   "source": [
    "##### `ensure` "
   ]
  },
  {
   "cell_type": "markdown",
   "metadata": {},
   "source": [
    "- `ensure` runs if error or not\n",
    "- what if raising an exception and running `ensure` recursively? "
   ]
  },
  {
   "cell_type": "code",
   "execution_count": null,
   "metadata": {},
   "outputs": [],
   "source": [
    "def mindfuck(count=0)\n",
    "  begin\n",
    "    a # throwing error; undefined local variable or method `a`\n",
    "  ensure\n",
    "    mindfuck(count+1) if count < 1000 # recursively calling 1000 times \n",
    "  end\n",
    "end\n",
    "\n",
    "mindfuck"
   ]
  },
  {
   "cell_type": "markdown",
   "metadata": {},
   "source": [
    "<sub> <sup> could also run rest of program from ensure <sup/> <sub/> "
   ]
  },
  {
   "cell_type": "markdown",
   "metadata": {},
   "source": [
    "##### Ok, recursively error handling. What about recursively making a program call itself?"
   ]
  },
  {
   "cell_type": "code",
   "execution_count": 13,
   "metadata": {},
   "outputs": [
    {
     "name": "stdout",
     "output_type": "stream",
     "text": [
      "byte.ipynb\n",
      "call_self.rb\n",
      "to_str.rb\n"
     ]
    }
   ],
   "source": [
    "file_names = `ls`.split\n",
    "puts file_names\n",
    "# `ruby [file name]`? "
   ]
  },
  {
   "cell_type": "markdown",
   "metadata": {},
   "source": [
    "Let's go to `call_self.rb`"
   ]
  },
  {
   "cell_type": "markdown",
   "metadata": {},
   "source": [
    "##### `.to_str`"
   ]
  },
  {
   "cell_type": "markdown",
   "metadata": {},
   "source": [
    "Probably not what you think it is... \n",
    "- `.to_s`: convert to string explicitly \n",
    "- `.to_str`: convert to string implicitly \n",
    "\n",
    "Familiar with this error? `no implicit conversion of Integer into String`"
   ]
  },
  {
   "cell_type": "code",
   "execution_count": 5,
   "metadata": {},
   "outputs": [
    {
     "ename": "TypeError",
     "evalue": "no implicit conversion of Integer into String",
     "output_type": "error",
     "traceback": [
      "\u001b[31mTypeError\u001b[0m: no implicit conversion of Integer into String",
      "(irb):in `+'",
      "(irb):in `irb_binding'"
     ]
    }
   ],
   "source": [
    "\"a\" + 1"
   ]
  },
  {
   "cell_type": "markdown",
   "metadata": {},
   "source": [
    "Let's fix that. <br/>\n",
    "Doesn't work in the notebook, so let's go to `to_str.rb`. "
   ]
  },
  {
   "cell_type": "markdown",
   "metadata": {},
   "source": [
    "##### `true..false`"
   ]
  },
  {
   "cell_type": "code",
   "execution_count": 16,
   "metadata": {},
   "outputs": [
    {
     "name": "stdout",
     "output_type": "stream",
     "text": [
      "4\n",
      "5\n",
      "6\n"
     ]
    },
    {
     "data": {
      "text/plain": [
       "1..10"
      ]
     },
     "execution_count": 16,
     "metadata": {},
     "output_type": "execute_result"
    }
   ],
   "source": [
    "(1..10).each do |i|\n",
    "  puts i if (i == 4)..(i == 6)\n",
    "end"
   ]
  },
  {
   "cell_type": "markdown",
   "metadata": {},
   "source": [
    "Lazy evaluation of range? "
   ]
  },
  {
   "cell_type": "code",
   "execution_count": null,
   "metadata": {},
   "outputs": [],
   "source": [
    "p true..false"
   ]
  },
  {
   "cell_type": "code",
   "execution_count": null,
   "metadata": {},
   "outputs": [],
   "source": [
    "p !!(true..false)"
   ]
  },
  {
   "cell_type": "code",
   "execution_count": null,
   "metadata": {},
   "outputs": [],
   "source": [
    "p !!(false..true)"
   ]
  },
  {
   "cell_type": "markdown",
   "metadata": {},
   "source": [
    "##### Using keywords as variable names"
   ]
  },
  {
   "cell_type": "code",
   "execution_count": null,
   "metadata": {},
   "outputs": [],
   "source": [
    "def foo (if: nil)\n",
    "  binding.local_variable_get(:if)\n",
    "end\n",
    "\n",
    "foo(if: false)"
   ]
  },
  {
   "cell_type": "markdown",
   "metadata": {},
   "source": [
    "##### Ruby `lambda`s... third time's the charm  "
   ]
  },
  {
   "cell_type": "code",
   "execution_count": 5,
   "metadata": {},
   "outputs": [
    {
     "data": {
      "text/plain": [
       "\"hello\""
      ]
     },
     "execution_count": 5,
     "metadata": {},
     "output_type": "execute_result"
    }
   ],
   "source": [
    "(a.=== a.[] a.call a = -> a = 'hello' { return a }).==="
   ]
  },
  {
   "cell_type": "markdown",
   "metadata": {},
   "source": [
    "- lambda is a \"notation\" in Ruby-- for `Proc`s\n",
    "- to call a `Proc`: `.===`, `.[]`, `.call` \n",
    "- first `Proc` returns `'Hello'` recursively to next `Proc` "
   ]
  },
  {
   "cell_type": "markdown",
   "metadata": {},
   "source": [
    "##### Infinite indexing "
   ]
  },
  {
   "cell_type": "code",
   "execution_count": null,
   "metadata": {},
   "outputs": [],
   "source": [
    "lst = [1, 2, 3]\n",
    "p lst[0][0][0][0][0]\n",
    "\n",
    "lst = [11, 12, 13]\n",
    "p lst[0][0][0][0][0]\n",
    "\n",
    "lst = [\"abc\", \"def\"]\n",
    "p lst[0][0][0][0][0]                                                                                                ;nil"
   ]
  },
  {
   "cell_type": "markdown",
   "metadata": {},
   "source": [
    "- `str[]` -> `char`... which is `str` \n",
    "- `int[]` -> `int` (apparently gets whatever decimal digit is at that index)\n",
    "- recursively call on that as much as desired "
   ]
  },
  {
   "cell_type": "markdown",
   "metadata": {},
   "source": [
    "##### Statements in class definitions"
   ]
  },
  {
   "cell_type": "code",
   "execution_count": 67,
   "metadata": {},
   "outputs": [
    {
     "name": "stdout",
     "output_type": "stream",
     "text": [
      "Howdy hey there\n",
      "Howdy a bientot\n"
     ]
    }
   ],
   "source": [
    "class JustAnotherClass\n",
    "  puts \"Howdy hey there\"\n",
    "  puts \"Howdy a bientot\"\n",
    "end"
   ]
  },
  {
   "cell_type": "markdown",
   "metadata": {},
   "source": [
    "# Useful things"
   ]
  },
  {
   "cell_type": "markdown",
   "metadata": {},
   "source": [
    "##### `.methods`"
   ]
  },
  {
   "cell_type": "code",
   "execution_count": 4,
   "metadata": {},
   "outputs": [
    {
     "data": {
      "text/plain": [
       "[:to_h, :include?, :&, :*, :+, :-, :at, :fetch, :last, :union, :difference, :intersection, :push, :append, :pop, :shift, :unshift, :each_index, :join, :rotate, :rotate!, :sort!, :sort_by!, :collect!, :map!, :select!, :filter!, :keep_if, :values_at, :delete_at, :delete_if, :reject!, :transpose, :fill, :assoc, :rassoc, :uniq!, :compact, :compact!, :flatten, :flatten!, :shuffle!, :shuffle, :sample, :permutation, :combination, :repeated_permutation, :repeated_combination, :product, :bsearch, :sort, :bsearch_index, :deconstruct, :count, :find_index, :select, :filter, :reject, :collect, :map, :first, :all?, :any?, :one?, :none?, :minmax, :|, :reverse_each, :zip, :take, :take_while, :drop, :<=>, :<<, :cycle, :drop_while, :==, :sum, :uniq, :[], :[]=, :insert, :empty?, :eql?, :index, :rindex, :replace, :clear, :max, :min, :inspect, :length, :size, :each, :reverse, :concat, :prepend, :reverse!, :to_ary, :to_a, :to_s, :delete, :pack, :slice, :slice!, :dig, :hash, :to_json, :each_slice, :each_cons, :each_with_object, :chunk, :slice_before, :slice_after, :slice_when, :chunk_while, :lazy, :chain, :to_set, :find, :entries, :sort_by, :grep, :grep_v, :detect, :find_all, :filter_map, :flat_map, :collect_concat, :inject, :reduce, :partition, :group_by, :tally, :min_by, :max_by, :minmax_by, :member?, :each_with_index, :each_entry, :dup, :itself, :yield_self, :then, :taint, :tainted?, :untaint, :untrust, :untrusted?, :trust, :frozen?, :methods, :singleton_methods, :protected_methods, :private_methods, :public_methods, :instance_variables, :instance_variable_get, :instance_variable_set, :instance_variable_defined?, :remove_instance_variable, :instance_of?, :kind_of?, :is_a?, :tap, :class, :singleton_class, :display, :clone, :public_send, :method, :public_method, :singleton_method, :define_singleton_method, :extend, :to_enum, :enum_for, :===, :=~, :!~, :nil?, :respond_to?, :freeze, :object_id, :send, :__send__, :!, :!=, :equal?, :__id__, :instance_eval, :instance_exec]"
      ]
     },
     "execution_count": 4,
     "metadata": {},
     "output_type": "execute_result"
    }
   ],
   "source": [
    "[1..3].methods"
   ]
  },
  {
   "cell_type": "markdown",
   "metadata": {},
   "source": [
    "##### `irb`"
   ]
  },
  {
   "cell_type": "markdown",
   "metadata": {},
   "source": [
    "Enter in terminal and bam, you can type in Ruby code. <br />\n",
    "<sub> <sup> <bu> Python: `python` or `python3` </sub> </sup> <br />\n",
    "<sub> <sup> <bu> JavaScript: `node` </sub> </sup> <br />"
   ]
  },
  {
   "cell_type": "markdown",
   "metadata": {},
   "source": [
    "##### Your own interactive Ruby Shell"
   ]
  },
  {
   "cell_type": "markdown",
   "metadata": {},
   "source": [
    "`ruby -n -e 'p eval($_)'` in a terminal "
   ]
  },
  {
   "cell_type": "markdown",
   "metadata": {},
   "source": [
    "##### `to_[type]`"
   ]
  },
  {
   "cell_type": "markdown",
   "metadata": {},
   "source": [
    "\"A fish\": `.to_a`, `.to_f`, ...\n",
    "- `.to_a`: array \n",
    "- `.to_f`: float\n",
    "- `.to_i`: integer\n",
    "- `.to_s`: string\n",
    "- `.to_h`: hash\n",
    "\n",
    "Also: `.to_set`, `.to_sym`, `.to_str`\n",
    "- `.to_set`: set\n",
    "- `.to_sym`: symbol\n",
    "- `.to_str`: dangerous, called when implicitly converting to string \n",
    "  - e.g., `\"a\" + 1`\n",
    "- `.to_r`  : rational number (usually a fraction)"
   ]
  },
  {
   "cell_type": "code",
   "execution_count": null,
   "metadata": {},
   "outputs": [],
   "source": [
    "\n",
    "puts \"[1, 2, 3].to_set:\"\n",
    "p [1, 2, 3].to_set\n",
    "puts \"\"\n",
    "\n",
    "puts '\"1\".to_sym:'\n",
    "p \"1\".to_sym\n",
    "puts \"\"\n",
    "\n",
    "puts '({\"1\" => 2}).to_a:'\n",
    "p ({\"1\" => 2}).to_a\n",
    "puts \"\"\n",
    "\n",
    "puts '[[\"a\", 2], [\"b\", 3]].to_h:'\n",
    "p [[\"a\", 2], [\"b\", 3]].to_h                                                               ; nil"
   ]
  },
  {
   "cell_type": "markdown",
   "metadata": {},
   "source": [
    "##### `.map`, `.filter`, `.reduce`"
   ]
  },
  {
   "cell_type": "markdown",
   "metadata": {},
   "source": [
    "- `.map`: perform an operation on every item in a list and return it \n",
    "- `.filter`: keep only items that match a condition \n",
    "- `.reduce`: combine the values from a list "
   ]
  },
  {
   "cell_type": "code",
   "execution_count": null,
   "metadata": {},
   "outputs": [],
   "source": [
    "one_to_ten = (1..10).to_a\n",
    "puts (\"one_to_ten         : #{one_to_ten}\")\n",
    "\n",
    "one_to_ten_squared = one_to_ten.map { |number| number * number }\n",
    "puts (\"one_to_ten_squared : #{one_to_ten_squared}\")\n",
    "\n",
    "less_than_thirty = one_to_ten_squared.filter { |number| number < 30 }\n",
    "puts (\"less_than_thirty   : #{less_than_thirty}\")\n",
    "\n",
    "multiplied = less_than_thirty.reduce(1) { |mult, number| mult * number }\n",
    "puts (\"multiplied         : #{multiplied}\")"
   ]
  },
  {
   "cell_type": "markdown",
   "metadata": {},
   "source": [
    "##### Infinite lazy iterator "
   ]
  },
  {
   "cell_type": "code",
   "execution_count": 13,
   "metadata": {},
   "outputs": [
    {
     "data": {
      "text/plain": [
       "[1, 4, 27, 256, 3125, 46656, 823543, 16777216, 387420489, 10000000000]"
      ]
     },
     "execution_count": 13,
     "metadata": {},
     "output_type": "execute_result"
    }
   ],
   "source": [
    "(1..Float::INFINITY).first(10) \n",
    "  .map { |n| n ** n }"
   ]
  },
  {
   "cell_type": "markdown",
   "metadata": {},
   "source": [
    "##### Pass function as argument in `.map`"
   ]
  },
  {
   "cell_type": "code",
   "execution_count": 6,
   "metadata": {},
   "outputs": [
    {
     "data": {
      "text/plain": [
       "[\"1\", \"2\", \"3\", \"4\", \"5\", \"6\", \"7\", \"8\", \"9\", \"10\"]"
      ]
     },
     "execution_count": 6,
     "metadata": {},
     "output_type": "execute_result"
    }
   ],
   "source": [
    "def square(n)\n",
    "  n ** 2\n",
    "end\n",
    "\n",
    "(1..Float::INFINITY).first(10)\n",
    "  .map &method(:square)\n",
    "\n",
    "(1..Float::INFINITY).first(10)\n",
    "  .map &:to_s"
   ]
  },
  {
   "cell_type": "code",
   "execution_count": 7,
   "metadata": {},
   "outputs": [
    {
     "data": {
      "text/plain": [
       "[[1, 4, 9, 16, 25, 36, 49, 64, 81, 100], [1, 8, 27, 64, 125, 216, 343, 512, 729, 1000], [2, 4, 6, 8, 10, 12, 14, 16, 18, 20]]"
      ]
     },
     "execution_count": 7,
     "metadata": {},
     "output_type": "execute_result"
    }
   ],
   "source": [
    "def double(n)\n",
    "  n * 2\n",
    "end\n",
    "\n",
    "def cube(n)\n",
    "  n ** 3\n",
    "end\n",
    "\n",
    "[:square, :cube, :double].map { |fn|\n",
    "  (1..10).map &method(fn)\n",
    "}"
   ]
  },
  {
   "cell_type": "markdown",
   "metadata": {},
   "source": [
    "##### `.each_with_index`"
   ]
  },
  {
   "cell_type": "code",
   "execution_count": 8,
   "metadata": {},
   "outputs": [
    {
     "name": "stdout",
     "output_type": "stream",
     "text": [
      "Item: item0   Index: 0\n",
      "Item: item1   Index: 1\n",
      "Item: item2   Index: 2\n"
     ]
    }
   ],
   "source": [
    "items = [\"item0\", \"item1\", \"item2\"]\n",
    "items.each_with_index {\n",
    "  |item, index| puts(\"Item: #{item}   Index: #{index}\")\n",
    "}\n",
    "                                                                                                      ;nil"
   ]
  },
  {
   "cell_type": "markdown",
   "metadata": {},
   "source": [
    "##### Take variable number of key-value pairs in a function "
   ]
  },
  {
   "cell_type": "markdown",
   "metadata": {},
   "source": [
    "Double splat operator: `**`"
   ]
  },
  {
   "cell_type": "code",
   "execution_count": null,
   "metadata": {},
   "outputs": [],
   "source": [
    "def display_dictionary_with_padding(padding_length, **items)\n",
    "  items.each { |(k, v)| puts(\"#{k.to_s.ljust(padding_length)}: #{v}\") }\n",
    "end\n",
    "\n",
    "display_dictionary_with_padding(5, 'a' => 'b', 'c' => 'd')"
   ]
  },
  {
   "cell_type": "markdown",
   "metadata": {},
   "source": [
    "Single splat operator: `*`"
   ]
  },
  {
   "cell_type": "code",
   "execution_count": null,
   "metadata": {},
   "outputs": [],
   "source": [
    "def take_in_list(*items)\n",
    "  items.each { |item| puts \"Item: #{item}\" }\n",
    "end\n",
    "\n",
    "take_in_list('a', 'b', 'c', 'd', 'e')"
   ]
  },
  {
   "cell_type": "markdown",
   "metadata": {},
   "source": [
    "##### Memoization"
   ]
  },
  {
   "cell_type": "code",
   "execution_count": null,
   "metadata": {},
   "outputs": [],
   "source": [
    "fib = Hash.new do |accumulator, index|\n",
    "  accumulator[index] = fib[index - 2] + fib[index - 1]\n",
    "end.update(0 => 0, 1 => 1)\n",
    "\n",
    "numbers = [100, 10, 105]\n",
    "numbers.each { |n| puts \"fib[#{n}]: #{fib[n]}\" }"
   ]
  },
  {
   "cell_type": "markdown",
   "metadata": {},
   "source": [
    "### String formatting"
   ]
  },
  {
   "cell_type": "markdown",
   "metadata": {},
   "source": [
    "##### String interpolation "
   ]
  },
  {
   "cell_type": "code",
   "execution_count": null,
   "metadata": {},
   "outputs": [],
   "source": [
    "float = 12345.12345\n",
    "# use `#{number_goes_here}`\n",
    "puts \"#{float}\""
   ]
  },
  {
   "cell_type": "markdown",
   "metadata": {},
   "source": [
    "##### Fixed float length"
   ]
  },
  {
   "cell_type": "code",
   "execution_count": null,
   "metadata": {},
   "outputs": [],
   "source": [
    "float = 12345.12345\n",
    "another_float = 67890.67890\n",
    "# print with three digits \n",
    "puts \"%.3f\" % float\n",
    "\n",
    "# print with 7 digits... 2 extra trailing `0`s \n",
    "puts \"%.7f\" % float\n",
    "\n",
    "# format multiple numbers \n",
    "puts \"%.7f %.5f\" % [float, another_float]"
   ]
  },
  {
   "cell_type": "markdown",
   "metadata": {},
   "source": [
    "##### Using hex "
   ]
  },
  {
   "cell_type": "code",
   "execution_count": null,
   "metadata": {},
   "outputs": [],
   "source": [
    "number = 12345 \n",
    "puts \"%x\" % number"
   ]
  },
  {
   "cell_type": "markdown",
   "metadata": {},
   "source": [
    "`.ljust`, `.rjust`"
   ]
  },
  {
   "cell_type": "code",
   "execution_count": 118,
   "metadata": {},
   "outputs": [
    {
     "name": "stdout",
     "output_type": "stream",
     "text": [
      "Head      tail\n",
      "      Headtail\n"
     ]
    }
   ],
   "source": [
    "puts \"Head\".ljust(10) + \"tail\"\n",
    "puts \"Head\".rjust(10) + \"tail\""
   ]
  },
  {
   "cell_type": "markdown",
   "metadata": {},
   "source": [
    "##### `GET` request"
   ]
  },
  {
   "cell_type": "code",
   "execution_count": 119,
   "metadata": {},
   "outputs": [
    {
     "data": {
      "text/plain": [
       "\"<HTML><HEAD><meta http-equiv=\\\"content-type\\\" content=\\\"text/html;charset=utf-8\\\">\\n<TITLE>301 Moved</TITLE></HEAD><BODY>\\n<H1>301 Moved</H1>\\nThe document has moved\\n<A HREF=\\\"https://www.google.com/\\\">here</A>.\\r\\n</BODY></HTML>\\r\\n\""
      ]
     },
     "execution_count": 119,
     "metadata": {},
     "output_type": "execute_result"
    }
   ],
   "source": [
    "require 'uri'\n",
    "require 'net/http'\n",
    "\n",
    "uri = URI('https://google.com')\n",
    "res = Net::HTTP.get_response(uri)\n",
    "puts res.body if res.is_a?(Net::HTTPSuccess)\n",
    "res.body"
   ]
  },
  {
   "cell_type": "markdown",
   "metadata": {},
   "source": [
    "##### Storing objects in files "
   ]
  },
  {
   "cell_type": "code",
   "execution_count": 11,
   "metadata": {},
   "outputs": [
    {
     "ename": "TypeError",
     "evalue": "can't dump anonymous class #<Class:0x000055f6d079c670>::SoonToBeBinaryObject",
     "output_type": "error",
     "traceback": [
      "\u001b[31mTypeError\u001b[0m: can't dump anonymous class #<Class:0x000055f6d079c670>::SoonToBeBinaryObject",
      "(irb):7:in `dump'",
      "(irb):7:in `irb_binding'"
     ]
    }
   ],
   "source": [
    "class SoonToBeBinaryObject\n",
    "  def initialize(obj_type='type')\n",
    "    @obj_type = obj_type\n",
    "  end\n",
    "end\n",
    "\n",
    "obj = SoonToBeBinaryObject.new\n",
    "Marshal.dump(obj)"
   ]
  },
  {
   "cell_type": "markdown",
   "metadata": {},
   "source": [
    "##### `.to_s(base)`, `.to_i(base)`"
   ]
  },
  {
   "cell_type": "code",
   "execution_count": 116,
   "metadata": {},
   "outputs": [
    {
     "name": "stdout",
     "output_type": "stream",
     "text": [
      "\"100\"\n",
      "\"1000\"\n",
      "\n",
      "\"100\"\n",
      "\"121\"\n",
      "\n",
      "256\n",
      "1296\n"
     ]
    },
    {
     "data": {
      "text/plain": [
       "1296"
      ]
     },
     "execution_count": 116,
     "metadata": {},
     "output_type": "execute_result"
    }
   ],
   "source": [
    "p 4.to_s(2)\n",
    "p 8.to_s(2)\n",
    "puts \"\"\n",
    "\n",
    "p 256.to_s(16)\n",
    "p 256.to_s(15)\n",
    "puts \"\"\n",
    "\n",
    "p \"100\".to_i(16)\n",
    "p \"100\".to_i(36)"
   ]
  },
  {
   "cell_type": "markdown",
   "metadata": {},
   "source": [
    "#### Sources, resources \n",
    "- https://stackoverflow.com/questions/21516511/how-to-write-to-file-when-using-marshaldump-in-ruby-for-object-serialization\n",
    "- https://www.rubyguides.com/2012/01/ruby-string-formatting/\n",
    "- https://devblast.com/b/ruby-tricks-improve-code\n",
    "- Taken from: https://www.rubyguides.com/2016/01/ruby-tricks/\n",
    "- https://www.rubyguides.com/2017/02/weird-ruby/ \n",
    "- https://www.twilio.com/blog/5-ways-make-http-requests-ruby\n",
    "- https://coderwall.com/p/qfh2ua/ruby-tricks-to-make-your-code-more-fun-and-less-readable\n",
    "- https://blog.arkency.com/2014/07/hidden-features-of-ruby-you-may-dont-know-about/"
   ]
  }
 ],
 "metadata": {
  "kernelspec": {
   "display_name": "Ruby 2.7.0",
   "language": "ruby",
   "name": "ruby"
  },
  "language_info": {
   "file_extension": ".rb",
   "mimetype": "application/x-ruby",
   "name": "ruby",
   "version": "2.7.0"
  }
 },
 "nbformat": 4,
 "nbformat_minor": 2
}
